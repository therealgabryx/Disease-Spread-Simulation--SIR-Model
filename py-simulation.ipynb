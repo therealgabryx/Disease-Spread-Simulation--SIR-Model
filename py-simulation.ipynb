{
 "cells": [
  {
   "cell_type": "code",
   "execution_count": 57,
   "metadata": {},
   "outputs": [
    {
     "data": {
      "text/plain": [
       "'1.0.1'"
      ]
     },
     "execution_count": 57,
     "metadata": {},
     "output_type": "execute_result"
    }
   ],
   "source": [
    "import pandas as pd\n",
    "import matplotlib.pyplot as plt\n",
    "import matplotlib.patches as mpatches\n",
    "\n",
    "pd.__version__"
   ]
  },
  {
   "cell_type": "code",
   "execution_count": null,
   "metadata": {},
   "outputs": [],
   "source": [
    "data = pd.read_excel(open('data/data.xlsx', 'rb'),\n",
    "              sheet_name='Sheet1')\n",
    "data.head()"
   ]
  },
  {
   "cell_type": "code",
   "execution_count": 58,
   "metadata": {},
   "outputs": [
    {
     "name": "stdout",
     "output_type": "stream",
     "text": [
      "[[59999400], [600], [0]]\n"
     ]
    },
    {
     "data": {
      "image/png": "[encoded data removed]",
      "text/plain": [
       "<Figure size 720x360 with 1 Axes>"
      ]
     },
     "metadata": {},
     "output_type": "display_data"
    }
   ],
   "source": [
    "N = 60000000\n",
    "S = 59999400\n",
    "I = 600\n",
    "\n",
    "const_a = 0.000025\n",
    "const_b = 600\n",
    "delta_t = 0.001\n",
    "\n",
    "R0 = 2.5\n",
    "\n",
    "# print(N, S, I, cost_a, cost_b, delta_t, R0)\n",
    "\n",
    "graph_x = [delta_t] \n",
    "graph_S = [S]\n",
    "graph_I = [I]\n",
    "graph_R = [0]\n",
    "# graph_y = [graph_S, graph_I, graph_R]\n",
    "\n",
    "print(graph_y)\n",
    "\n",
    "i = 1\n",
    "for i in range(80):\n",
    "    #calcs\n",
    "    S_k = graph_S[i - 1] - (const_a * graph_S[i - 1] * graph_I[i - 1] * delta_t) # f(x): S(k+1) = Sk − (a*Sk*Ik*∆t)   \n",
    "    I_k = graph_I[i - 1] + (const_a * graph_S[i - 1] * graph_I[i - 1] * delta_t) - (const_b * graph_I[i - 1] * delta_t) # f(x): I(k+1) = Ik + (a*Sk*Ik*∆t) − (b*Ik*∆t)    \n",
    "    R_k = graph_R[i - 1] + (const_b * graph_I[i - 1] * delta_t) # f(x): R(k+1) = Rk + (b*Ik*∆t)          \n",
    "    delta_T = graph_x[i - 1] + delta_t\n",
    "    \n",
    "    #graph data\n",
    "    graph_S.append(S_k)\n",
    "    graph_I.append(I_k)\n",
    "    graph_R.append(R_k)\n",
    "    graph_x.append(delta_T)\n",
    "    \n",
    "\n",
    "fig = plt.figure(facecolor='w', figsize=(10,5))\n",
    "plt.title('Disease-Spread Simulation')\n",
    "plt.stackplot(graph_x, graph_I, graph_S, graph_R, colors=['#f56654', '#31606e', '#444345'])\n",
    "\n",
    "# legend\n",
    "red_patch = mpatches.Patch(color='#f56654', label='Infected')\n",
    "blue_patch = mpatches.Patch(color='#31606e', label='Susceptible')\n",
    "gray_patch = mpatches.Patch(color='#444345', label='Removed')\n",
    "plt.legend(handles=[red_patch, blue_patch, gray_patch], loc='upper left')\n",
    "\n",
    "plt.show()"
   ]
  },
  {
   "cell_type": "code",
   "execution_count": null,
   "metadata": {},
   "outputs": [],
   "source": []
  },
  {
   "cell_type": "code",
   "execution_count": null,
   "metadata": {},
   "outputs": [],
   "source": []
  },
  {
   "cell_type": "code",
   "execution_count": null,
   "metadata": {},
   "outputs": [],
   "source": []
  },
  {
   "cell_type": "code",
   "execution_count": null,
   "metadata": {},
   "outputs": [],
   "source": []
  },
  {
   "cell_type": "code",
   "execution_count": null,
   "metadata": {},
   "outputs": [],
   "source": []
  },
  {
   "cell_type": "code",
   "execution_count": null,
   "metadata": {},
   "outputs": [],
   "source": []
  }
 ],
 "metadata": {
  "kernelspec": {
   "display_name": "Python 3",
   "language": "python",
   "name": "python3"
  },
  "language_info": {
   "codemirror_mode": {
    "name": "ipython",
    "version": 3
   },
   "file_extension": ".py",
   "mimetype": "text/x-python",
   "name": "python",
   "nbconvert_exporter": "python",
   "pygments_lexer": "ipython3",
   "version": "3.7.6"
  }
 },
 "nbformat": 4,
 "nbformat_minor": 4
}
